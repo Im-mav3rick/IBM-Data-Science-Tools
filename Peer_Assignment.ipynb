{
  "nbformat": 4,
  "nbformat_minor": 0,
  "metadata": {
    "colab": {
      "provenance": []
    },
    "kernelspec": {
      "name": "python3",
      "display_name": "Python 3"
    },
    "language_info": {
      "name": "python"
    }
  },
  "cells": [
    {
      "cell_type": "markdown",
      "source": [
        "Assigment 1\n",
        "# Create a Jupyter Notebook"
      ],
      "metadata": {
        "id": "a-y65yFEIQ7Z"
      }
    },
    {
      "cell_type": "markdown",
      "source": [
        "Assigment 2\n",
        "### Data Science Tools and Ecosystem"
      ],
      "metadata": {
        "id": "omMNp08pIdQK"
      }
    },
    {
      "cell_type": "markdown",
      "source": [
        "Assignment 3\n",
        "# This notebook Summarize\n",
        "* Popular languages that Data Scientists use.\n",
        "* Library used for data science\n",
        "\n"
      ],
      "metadata": {
        "id": "X4RoKO53IrmG"
      }
    },
    {
      "cell_type": "markdown",
      "source": [
        "Assignament 4\n",
        "#Languages used for data science\n",
        "* Python\n",
        "* R\n",
        "* Scala\n",
        "* Ruby\n",
        "* Java\n",
        "* Julia"
      ],
      "metadata": {
        "id": "f9_3XL1TJtEP"
      }
    },
    {
      "cell_type": "markdown",
      "source": [
        "Assignment 5\n",
        "### Data Sceince Libraries are\n",
        "1. Pandas\n",
        "2. Numpy\n",
        "3. tenserflow\n",
        "4. Scikit-learn\n",
        "5. Keras\n",
        "6. PyTorch\n",
        "\n",
        "etc\n"
      ],
      "metadata": {
        "id": "H48gmrmsJ8l4"
      }
    },
    {
      "cell_type": "markdown",
      "source": [
        "Assignment 6\n",
        "#Data Sciencce Tools\n",
        "|**Names**|\n",
        "-------\n",
        "|Apache Sparks|\n",
        "|Jupyter Notebook|\n",
        "|Google Colab|"
      ],
      "metadata": {
        "id": "UAp-JDgfKPn0"
      }
    },
    {
      "cell_type": "markdown",
      "source": [
        "Assignment 7\n",
        "### Arithmetic expression\n",
        "x = 2+4"
      ],
      "metadata": {
        "id": "CRWUyhRDKyST"
      }
    },
    {
      "cell_type": "code",
      "source": [
        "#Assignment 8\n",
        "def multiply(a,b):\n",
        "  return a*b\n",
        "def add(a,b):\n",
        "  return a+b\n",
        "\n",
        "multiply(3,5)  #15\n",
        "add(3,5)       #8\n",
        "\n"
      ],
      "metadata": {
        "colab": {
          "base_uri": "https://localhost:8080/"
        },
        "id": "UT4hN9IGK8GT",
        "outputId": "763f3de3-5d81-400c-c8c2-c412118ec172"
      },
      "execution_count": 3,
      "outputs": [
        {
          "output_type": "execute_result",
          "data": {
            "text/plain": [
              "8"
            ]
          },
          "metadata": {},
          "execution_count": 3
        }
      ]
    },
    {
      "cell_type": "code",
      "execution_count": 5,
      "metadata": {
        "colab": {
          "base_uri": "https://localhost:8080/"
        },
        "id": "63s_6QHIIFqz",
        "outputId": "ce457393-7277-43dd-9cd4-abcd93f53405"
      },
      "outputs": [
        {
          "output_type": "stream",
          "name": "stdout",
          "text": [
            "16 Hours and 40 minutes\n"
          ]
        }
      ],
      "source": [
        "#Assignment 9\n",
        "minutes = 1000\n",
        "hours = minutes //60\n",
        "minutes =1000- hours * 60\n",
        "print(f'{hours} Hours and {minutes} minutes')"
      ]
    },
    {
      "cell_type": "markdown",
      "source": [
        "Assignment 10\n",
        "###Objectives\n",
        "* Tools Used for Data Science\n",
        "* Why Data Science ?\n",
        "* IBM Watson Studio\n",
        "* Google Colab\n"
      ],
      "metadata": {
        "id": "OShIFnlbL6ka"
      }
    },
    {
      "cell_type": "markdown",
      "source": [
        "Assignmrnt 11\n",
        "### Author's Name\n",
        "Animesh Srivastav\n"
      ],
      "metadata": {
        "id": "swoMzNEzMZ-W"
      }
    },
    {
      "cell_type": "code",
      "source": [],
      "metadata": {
        "id": "Ua9TMerlLeLd"
      },
      "execution_count": null,
      "outputs": []
    }
  ]
}